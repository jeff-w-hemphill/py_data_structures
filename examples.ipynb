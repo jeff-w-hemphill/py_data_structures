{
 "cells": [
  {
   "cell_type": "markdown",
   "metadata": {},
   "source": [
    "# Queue"
   ]
  },
  {
   "cell_type": "code",
   "execution_count": 7,
   "metadata": {},
   "outputs": [
    {
     "name": "stdout",
     "output_type": "stream",
     "text": [
      "1\n",
      "[2, 3, 4]\n"
     ]
    }
   ],
   "source": [
    "class Queue():\n",
    "    def __init__(self, q):\n",
    "        self.q = q\n",
    "    def print(self):\n",
    "        print(self.q)\n",
    "    def push(self, val):\n",
    "        self.q.append(val)   \n",
    "    def pop(self):\n",
    "        return self.q.pop(0)"
   ]
  },
  {
   "cell_type": "code",
   "execution_count": 14,
   "metadata": {},
   "outputs": [
    {
     "name": "stdout",
     "output_type": "stream",
     "text": [
      "12\n"
     ]
    }
   ],
   "source": [
    "def add_one(x):\n",
    "    return x + 1\n",
    "def double_it(x):\n",
    "    return x * 2\n",
    "\n",
    "fq = Queue([add_one, double_it])\n",
    "x = 5\n",
    "\n",
    "for f in fq.q:\n",
    "    x = f(x)\n",
    "    \n",
    "print(x)"
   ]
  },
  {
   "cell_type": "code",
   "execution_count": 16,
   "metadata": {},
   "outputs": [
    {
     "name": "stdout",
     "output_type": "stream",
     "text": [
      "[1, 2, 3, 4]\n"
     ]
    }
   ],
   "source": [
    "class Stack():\n",
    "    def __init__(self, s):\n",
    "        self.s = s\n",
    "    def print(self):\n",
    "        print(self.s)\n",
    "    def push(self, val):\n",
    "        self.s.append(val)\n",
    "    def pop(self):\n",
    "        return self.s.pop(-1)"
   ]
  },
  {
   "cell_type": "code",
   "execution_count": null,
   "metadata": {},
   "outputs": [],
   "source": []
  }
 ],
 "metadata": {
  "kernelspec": {
   "display_name": "Python 3",
   "language": "python",
   "name": "python3"
  },
  "language_info": {
   "codemirror_mode": {
    "name": "ipython",
    "version": 3
   },
   "file_extension": ".py",
   "mimetype": "text/x-python",
   "name": "python",
   "nbconvert_exporter": "python",
   "pygments_lexer": "ipython3",
   "version": "3.8.5"
  }
 },
 "nbformat": 4,
 "nbformat_minor": 4
}
