{
 "cells": [
  {
   "cell_type": "markdown",
   "metadata": {},
   "source": [
    "# Queue & Stack"
   ]
  },
  {
   "cell_type": "code",
   "execution_count": 7,
   "metadata": {},
   "outputs": [
    {
     "name": "stdout",
     "output_type": "stream",
     "text": [
      "1\n",
      "[2, 3, 4]\n"
     ]
    }
   ],
   "source": [
    "class Queue():\n",
    "    def __init__(self, q):\n",
    "        self.q = q\n",
    "    def print(self):\n",
    "        print(self.q)\n",
    "    def push(self, val):\n",
    "        self.q.append(val)   \n",
    "    def pop(self):\n",
    "        return self.q.pop(0)"
   ]
  },
  {
   "cell_type": "code",
   "execution_count": 17,
   "metadata": {},
   "outputs": [],
   "source": [
    "class Stack():\n",
    "    def __init__(self, s):\n",
    "        self.s = s\n",
    "    def print(self):\n",
    "        print(self.s)\n",
    "    def push(self, val):\n",
    "        self.s.append(val)\n",
    "    def pop(self):\n",
    "        return self.s.pop(-1)"
   ]
  },
  {
   "cell_type": "code",
   "execution_count": null,
   "metadata": {},
   "outputs": [],
   "source": [
    "class Node():\n",
    "    def __init__(self, val):\n",
    "        self.val = val\n",
    "        self.next = None\n",
    "class LinkedList():\n",
    "    def__init__(self, val):\n",
    "        self.head = None\n",
    "        \n",
    "# print() add_first() add_last() add_at(index) remove_first() remove_last() remove_at(index) to_list()\n",
    "        "
   ]
  },
  {
   "cell_type": "code",
   "execution_count": null,
   "metadata": {},
   "outputs": [],
   "source": []
  }
 ],
 "metadata": {
  "kernelspec": {
   "display_name": "Python 3",
   "language": "python",
   "name": "python3"
  },
  "language_info": {
   "codemirror_mode": {
    "name": "ipython",
    "version": 3
   },
   "file_extension": ".py",
   "mimetype": "text/x-python",
   "name": "python",
   "nbconvert_exporter": "python",
   "pygments_lexer": "ipython3",
   "version": "3.8.5"
  }
 },
 "nbformat": 4,
 "nbformat_minor": 4
}
